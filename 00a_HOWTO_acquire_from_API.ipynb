{
 "cells": [
  {
   "cell_type": "markdown",
   "metadata": {},
   "source": [
    "## How to get Unpaywall data via the API\n",
    "- sending an email address so that they can let you know if your requests are causing problems\n",
    "- I usually store mine in an environment variable, so that os.environ can find it. If you prefer not to do that, then set the myemail variable below to your email address. "
   ]
  },
  {
   "cell_type": "code",
   "execution_count": 1,
   "metadata": {},
   "outputs": [],
   "source": [
    "import os\n",
    "myemail = os.environ['MY_EMAIL']"
   ]
  },
  {
   "cell_type": "code",
   "execution_count": 5,
   "metadata": {},
   "outputs": [],
   "source": [
    "import requests\n",
    "import json\n",
    "import time\n",
    "\n",
    "def get_doi_data(doi):\n",
    "    email = myemail or ''\n",
    "    url = 'https://api.unpaywall.org/v2/{}?email={}'.format(doi,email)\n",
    "    r = requests.get(url)\n",
    "    data = r.json()\n",
    "    response_time = r.elapsed.total_seconds()\n",
    "    # simple rule for sleeping if responses are slow\n",
    "    if response_time > 5.0:\n",
    "        print(response_time, 'seconds for last request')\n",
    "        print('Unpaywall slow to respond. Sleep for a few seconds.')\n",
    "        time.sleep(int(response_time))\n",
    "        print('Finished sleeping')\n",
    "    return data\n",
    "\n"
   ]
  },
  {
   "cell_type": "code",
   "execution_count": null,
   "metadata": {},
   "outputs": [],
   "source": []
  },
  {
   "cell_type": "code",
   "execution_count": null,
   "metadata": {},
   "outputs": [],
   "source": []
  }
 ],
 "metadata": {
  "kernelspec": {
   "display_name": "Python 3",
   "language": "python",
   "name": "python3"
  },
  "language_info": {
   "codemirror_mode": {
    "name": "ipython",
    "version": 3
   },
   "file_extension": ".py",
   "mimetype": "text/x-python",
   "name": "python",
   "nbconvert_exporter": "python",
   "pygments_lexer": "ipython3",
   "version": "3.8.3"
  }
 },
 "nbformat": 4,
 "nbformat_minor": 4
}
