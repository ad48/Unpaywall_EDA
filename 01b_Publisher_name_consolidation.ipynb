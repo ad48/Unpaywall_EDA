{
 "cells": [
  {
   "cell_type": "markdown",
   "metadata": {},
   "source": [
    "## Handling publishers\n",
    "Publishers are not uniquely defined in Unpaywall's data. This is a problem because it means that, if we want to look at what individual publishers are doing with regard to OA, we might only get part of the picture when a publisher has more than 1 name in the data. \n",
    "\n",
    "There are a few possible ways to solve this. E.g. one could cross-reference with CrossRef and use the CrossRef member-ids to disambiguate publishers, but that might take a lot of time and there's the further problem that some publishers also have more than 1 CrossRef member id.\n",
    "\n",
    "So here we will try an ad-hoc solution of simply searching the complete publishers list in the Unpaywall data to see if we can find name variants and imprint names for major publishers. This is certainly going to yield imperfect results, but checking against the major publishers' websites shows that the totals are close enough. "
   ]
  },
  {
   "cell_type": "code",
   "execution_count": 44,
   "metadata": {},
   "outputs": [],
   "source": [
    "# get all paper published by SAGE\n",
    "client = pymongo.MongoClient()\n",
    "db = client['unpaywall']\n",
    "coll = db['snapshot']"
   ]
  },
  {
   "cell_type": "code",
   "execution_count": 46,
   "metadata": {},
   "outputs": [
    {
     "data": {
      "text/plain": [
       "(67104,\n",
       " [None,\n",
       "  '',\n",
       "  '\"Advocate Adviser\",',\n",
       "  '\"Bazaar Exchange and Mart\"',\n",
       "  '\"Buzzacott\",',\n",
       "  '\"Cage Birds, \",',\n",
       "  '\"Calpe\"',\n",
       "  '\"Canary and Cage-bird Life\"',\n",
       "  '\"Canary and cage-bird life\"',\n",
       "  '\"Ceylon Observer\" Press,'])"
      ]
     },
     "execution_count": 46,
     "metadata": {},
     "output_type": "execute_result"
    }
   ],
   "source": [
    "# Get a list of all the publishers' names\n",
    "publishers = list(coll.distinct( \"publisher\" ))\n",
    "# check how many publishers and look at a few examples\n",
    "len(publishers), publishers[:10]"
   ]
  },
  {
   "cell_type": "code",
   "execution_count": 47,
   "metadata": {},
   "outputs": [
    {
     "data": {
      "text/plain": [
       "['MDPI', 'MDPI AG']"
      ]
     },
     "execution_count": 47,
     "metadata": {},
     "output_type": "execute_result"
    }
   ],
   "source": [
    "# now perform a search for a publisher's name / imprent name and see what comes back\n",
    "# build on this so that you can consolidate publishers' names\n",
    "# doing this several times with several different publisher names allows creation of the tools.PublisherNameConsolidator class below\n",
    "# if you edit this class, you need to copy it to tools.PublisherNameConsolidator.py\n",
    "[x for x in publishers if 'MDPI' in str(x)]"
   ]
  },
  {
   "cell_type": "code",
   "execution_count": null,
   "metadata": {},
   "outputs": [],
   "source": [
    "\"\"\"\n",
    "This simple class attempts to consolidate all the different names that appear for publishers in Unpaywall data\n",
    "Consider that using member_ids in CrossRef data might be a smarter way to do this. \n",
    "\"\"\"\n",
    "\n",
    "class PublisherNameConsolidator:\n",
    "    \n",
    "    def __init__(self):\n",
    "        self.publisher_dct = {\n",
    "                    'CUP':[str(x) for x in publishers if x=='CUP' or 'Cambridge University Press' in str(x)],\n",
    "                    'OUP': [str(x) for x in publishers if x=='OUP' or 'Oxford University Press' in str(x)],\n",
    "                    'SAGE': [str(x) for x in publishers if 'SAGE' in str(x)],\n",
    "                    'Elsevier': [str(x) for x in publishers if any(\n",
    "                                                                            [y in str(x) ## Close matches\n",
    "                                                                            for y in ['Harcourt','Morgan Kaufmann','Cell Press',\n",
    "                                                                                      'Churchill Livingstone','Pergamon','B Saunders','B. Saunders']\n",
    "                                                                           ] +\n",
    "                                                                           [z == str(x) ## Exact matches\n",
    "                                                                             for z in ['Butterworth-Heinemann Ltd.','Academic Press','Medicine Publishing']] +\n",
    "                                                                            ['Elsevier' in str(x)] \n",
    "\n",
    "                                                                          ) and all(\n",
    "                                                                            [a not in str(x) for a in ['V. Masson','G. Masson', 'V Masson', 'G Masson']]\n",
    "                                                                            )],\n",
    "\n",
    "                    'Springer' : [str(x) for x in publishers if any(\n",
    "                                                                            [y in str(x) ## Close matches\n",
    "                                                                            for y in ['Palgrave','Biomed Central','BioMed Central','MacMillan','Macmillan']\n",
    "                                                                           ] +\n",
    "                                                                           [z == str(x) ## Exact matches\n",
    "                                                                             for z in ['Vogel ','Vogel,']] +\n",
    "                                                                            ['Nature Publishing' in str(x) or 'Springer' in str(x)]\n",
    "                                                                          )],\n",
    "                    'Wiley': [str(x) for x in publishers if any([y in str(x) ## Close matches\n",
    "                                                                            for y in ['Jossey-Bass','Wrox Press','Wrightbooks','Howell Book House','Audel','Capstone']\n",
    "                                                                           ]\n",
    "                                                                          + [z == str(x) ## Exact matches\n",
    "                                                                             for z in ['Pfeiffer','Pfeiffer: A Wiley Imprint']]\n",
    "                                                                           + ['Wiley' in str(x) or 'Blackwell' in str(x)]\n",
    "                                                                          )],\n",
    "                    'T+F' : [str(x) for x in publishers if any([y in str(x) ## Close matches\n",
    "                                                                            for y in ['Informa ','F1000', 'Faculty of 1000','Cogent','Routledge','Garland Science','Spon Press']\n",
    "                                                                           ]\n",
    "                                                                          + [z == str(x) ## Exact matches\n",
    "                                                                             for z in ['Psychology Press']]\n",
    "                                                                           + ['Taylor' in str(x) and 'Francis' in str(x)]\n",
    "                                                                          )],\n",
    "                    'MDPI': ['MDPI', 'MDPI AG'],\n",
    "                    }\n",
    "        publisher_name_consolidator = dict()\n",
    "        for key, value in self.publisher_dct.items():\n",
    "            for string in value:\n",
    "                publisher_name_consolidator.setdefault(string, key)\n",
    "        self.publisher_name_consolidator = publisher_name_consolidator"
   ]
  },
  {
   "cell_type": "code",
   "execution_count": 48,
   "metadata": {},
   "outputs": [],
   "source": [
    "# test that you can load the object\n",
    "\n",
    "# from tools import PublisherNameConsolidator\n",
    "\n",
    "# publisher_name_consolidator = PublisherNameConsolidator().publisher_name_consolidator\n",
    "# publisher_dct = PublisherNameConsolidator().publisher_dct"
   ]
  }
 ],
 "metadata": {
  "kernelspec": {
   "display_name": "Python 3",
   "language": "python",
   "name": "python3"
  },
  "language_info": {
   "codemirror_mode": {
    "name": "ipython",
    "version": 3
   },
   "file_extension": ".py",
   "mimetype": "text/x-python",
   "name": "python",
   "nbconvert_exporter": "python",
   "pygments_lexer": "ipython3",
   "version": "3.8.3"
  }
 },
 "nbformat": 4,
 "nbformat_minor": 4
}
