{
 "cells": [
  {
   "cell_type": "markdown",
   "metadata": {},
   "source": [
    "# Audit\n",
    "Unpaywall's data is fairly unique which makes it hard to verify against another data source to ensure accuracy. \n",
    "\n",
    "## Check Unpaywall for the following things:\n",
    "\n",
    "### Missing data\n",
    "under \n",
    "- is_oa\n",
    "- published_date \n",
    "    - we only have 1 date for published here, CrossRef has a number of different dates for this. \n",
    "- oa_status\n",
    "\n",
    "### look at the Green OA data. \n",
    "- It would be interesting to know if the acceptedVersion/submittedVersion distinction is accurate. \n",
    "  - submittedVersion seems like it would be a preprint, or some other pre-peer-review version. Therefore less-valuable. However, if a MS has very few changes during peer-review, does the submittedVersion BECOME an acceptedVersion without a change to the label? \n",
    "\n",
    "## Issues found in data\n",
    "- A lot of publication dates seem to be in january. \n",
    "  - Checking against CrossRef we see that many of these do have other more nuanced dates associated with them, but this is also an inevitable feature of the data because the publication dates are incomplete in CrossRef. So, where we have an incomplete date: \n",
    "    - publication-date is set to 01 of the month, if we have just a year and a month or \n",
    "    - if we only have a year, it's set to 01-January.\n"
   ]
  },
  {
   "cell_type": "code",
   "execution_count": 1,
   "metadata": {},
   "outputs": [],
   "source": [
    "import json\n",
    "import gzip\n",
    "import pandas as pd\n",
    "import datetime"
   ]
  },
  {
   "cell_type": "code",
   "execution_count": 2,
   "metadata": {},
   "outputs": [],
   "source": [
    "filepath = r'C:\\Users\\aday\\OneDrive - SAGE Publishing\\DATA\\Unpaywall\\unpaywall_snapshot_2020-10-09T153852.jsonl.gz'"
   ]
  },
  {
   "cell_type": "markdown",
   "metadata": {},
   "source": [
    "# Look at 01 January records. Are the dates in CrossRef different?\n",
    "- get a bunch of 01 January records\n",
    "- get the same articles by DOI from CrossRef\n",
    "- compare the publication dates"
   ]
  },
  {
   "cell_type": "code",
   "execution_count": 3,
   "metadata": {},
   "outputs": [
    {
     "name": "stdout",
     "output_type": "stream",
     "text": [
      "Wall time: 34.3 s\n"
     ]
    },
    {
     "data": {
      "text/plain": [
       "100000"
      ]
     },
     "execution_count": 3,
     "metadata": {},
     "output_type": "execute_result"
    }
   ],
   "source": [
    "%%time\n",
    "# get a few january articles. Check the dates against CrossRef\n",
    "january_recs = list()\n",
    "with gzip.open(filepath,'rb') as f:\n",
    "    i = 0\n",
    "    for line in f:\n",
    "        try:\n",
    "            record = json.loads(line)\n",
    "            pubdate = record.get('published_date',None)\n",
    "            if pubdate!=None:\n",
    "                year = pubdate[:4]\n",
    "                if year>='2015':\n",
    "                    month = pubdate[5:7]\n",
    "                    if month=='01':\n",
    "                        january_recs.append(record)\n",
    "                        i+=1\n",
    "                        if i>=100000:\n",
    "                            break\n",
    "        except Exception as e:\n",
    "            print(record)\n",
    "            print(e)\n",
    "            break\n",
    "            \n",
    "january_recs = {rec['doi']: rec for rec in january_recs if 'doi' in rec}\n",
    "len(january_recs)"
   ]
  },
  {
   "cell_type": "code",
   "execution_count": 4,
   "metadata": {},
   "outputs": [
    {
     "data": {
      "text/plain": [
       "100000"
      ]
     },
     "execution_count": 4,
     "metadata": {},
     "output_type": "execute_result"
    }
   ],
   "source": [
    "dois = list(january_recs)\n",
    "len(dois)"
   ]
  },
  {
   "cell_type": "code",
   "execution_count": 5,
   "metadata": {},
   "outputs": [],
   "source": [
    "from tools.CrossRefUtils import CrossRefUtils\n",
    "from tools.CrossRefEarliestDate import CrossRefEarliestDate"
   ]
  },
  {
   "cell_type": "code",
   "execution_count": 6,
   "metadata": {},
   "outputs": [],
   "source": [
    "# conveniently, I have a CrossRef snapshot mounted locally\n",
    "# if you don't have one, there is a utility to download from the CrossRef API\n",
    "import pymongo\n",
    "client = pymongo.MongoClient()\n",
    "db = client['crossref']\n",
    "coll = db['works']"
   ]
  },
  {
   "cell_type": "code",
   "execution_count": 12,
   "metadata": {
    "scrolled": true
   },
   "outputs": [
    {
     "name": "stderr",
     "output_type": "stream",
     "text": [
      "  0%|▏                                                                          | 176/100000 [00:00<00:57, 1742.60it/s]"
     ]
    },
    {
     "name": "stdout",
     "output_type": "stream",
     "text": [
      "2021-02-17 11:20:35.128730 Searching CrossRef Database\n"
     ]
    },
    {
     "name": "stderr",
     "output_type": "stream",
     "text": [
      "100%|████████████████████████████████████████████████████████████████████████| 100000/100000 [01:01<00:00, 1613.09it/s]\n"
     ]
    },
    {
     "name": "stdout",
     "output_type": "stream",
     "text": [
      "2021-02-17 11:21:38.271444 90164 items found from CrossRef on MongoDB\n",
      "2021-02-17 11:22:03.155305 Writing out dataframe:(90164, 3)\n"
     ]
    }
   ],
   "source": [
    "# when were the january articles published?\n",
    "import os\n",
    "from tqdm import tqdm\n",
    "date_data_path = 'data/date_data.csv'\n",
    "if os.path.exists(date_data_path):\n",
    "    dates = pd.read_csv(date_data_path)\n",
    "    dates['cr_date'] = pd.to_datetime(dates['cr_date'])\n",
    "    dates['up_date'] = pd.to_datetime(dates['up_date'])\n",
    "else:\n",
    "    print(datetime.datetime.now(), 'Searching CrossRef Database')\n",
    "    cr_data = list()\n",
    "    for doi in tqdm(dois):\n",
    "        try:\n",
    "            # hit the CrossRef snapshot\n",
    "            rec = coll.find_one({'DOI':doi})\n",
    "            rec.pop('_id')\n",
    "            cr_data.append(rec)\n",
    "        except:\n",
    "            pass\n",
    "    cr_dct = {record['DOI']: record for record in cr_data}\n",
    "    print(datetime.datetime.now(), len(cr_dct), 'items found from CrossRef on MongoDB')\n",
    "    \n",
    "    # If you don't have a CrossRef snapshot, you can use this.\n",
    "#     remaining_dois = [doi for doi in dois if doi not in cr_dct]\n",
    "#     cr_data = list(CrossRefUtils().get_many_crossref(remaining_dois, retry_failures=True))\n",
    "#     for record in cr_data:\n",
    "#         cr_dct[record['DOI']]= record\n",
    "    \n",
    "#     print(datetime.datetime.now(), len(cr_dct), 'items found from CrossRef API')\n",
    "\n",
    "    cr_earliest_dates = []\n",
    "    unpaywall_dates = []\n",
    "    dois_out = []\n",
    "    for doi in dois:\n",
    "        if doi in january_recs and doi in cr_dct:\n",
    "            dois_out.append(doi)\n",
    "            cr_record = cr_dct[doi]\n",
    "            cr_earliest_date_dct = CrossRefEarliestDate(cr_record).earliest_date\n",
    "            cr_earliest_datetime_str = cr_earliest_date_dct['date-time']\n",
    "#             cr_earliest_datetime = datetime.datetime.strptime(cr_earliest_datetime_str,'%Y-%m-%d')\n",
    "            cr_earliest_dates.append(cr_earliest_datetime_str)\n",
    "            up_record = january_recs[doi]\n",
    "            up_date = up_record['published_date']\n",
    "#             up_datetime = datetime.datetime.strptime(up_date)#, format='%Y-%m-%d')\n",
    "            unpaywall_dates.append(up_date)\n",
    "    dates = pd.DataFrame({'doi':dois_out,'cr_date':cr_earliest_dates,'up_date':unpaywall_dates})\n",
    "    print(datetime.datetime.now(), 'Writing out dataframe:{}'.format(dates.shape))\n",
    "    dates.to_csv(date_data_path)\n"
   ]
  },
  {
   "cell_type": "code",
   "execution_count": 13,
   "metadata": {},
   "outputs": [
    {
     "data": {
      "text/html": [
       "<div>\n",
       "<style scoped>\n",
       "    .dataframe tbody tr th:only-of-type {\n",
       "        vertical-align: middle;\n",
       "    }\n",
       "\n",
       "    .dataframe tbody tr th {\n",
       "        vertical-align: top;\n",
       "    }\n",
       "\n",
       "    .dataframe thead th {\n",
       "        text-align: right;\n",
       "    }\n",
       "</style>\n",
       "<table border=\"1\" class=\"dataframe\">\n",
       "  <thead>\n",
       "    <tr style=\"text-align: right;\">\n",
       "      <th></th>\n",
       "      <th>doi</th>\n",
       "      <th>cr_date</th>\n",
       "      <th>up_date</th>\n",
       "    </tr>\n",
       "  </thead>\n",
       "  <tbody>\n",
       "    <tr>\n",
       "      <th>22202</th>\n",
       "      <td>10.1145/2899475.2899480</td>\n",
       "      <td>2016-01-01T00:00:00Z</td>\n",
       "      <td>2016-01-01</td>\n",
       "    </tr>\n",
       "    <tr>\n",
       "      <th>53089</th>\n",
       "      <td>10.22360/springsim.2018.cns.006</td>\n",
       "      <td>2017-01-01T00:00:00Z</td>\n",
       "      <td>2017-01-01</td>\n",
       "    </tr>\n",
       "    <tr>\n",
       "      <th>84197</th>\n",
       "      <td>10.32737/2221-8688-2018-1-136-144</td>\n",
       "      <td>2018-01-01T00:00:00Z</td>\n",
       "      <td>2018-01-01</td>\n",
       "    </tr>\n",
       "    <tr>\n",
       "      <th>31280</th>\n",
       "      <td>10.1055/b-0039-168647</td>\n",
       "      <td>2019-01-01T00:00:00Z</td>\n",
       "      <td>2019-01-01</td>\n",
       "    </tr>\n",
       "  </tbody>\n",
       "</table>\n",
       "</div>"
      ],
      "text/plain": [
       "                                     doi               cr_date     up_date\n",
       "22202            10.1145/2899475.2899480  2016-01-01T00:00:00Z  2016-01-01\n",
       "53089    10.22360/springsim.2018.cns.006  2017-01-01T00:00:00Z  2017-01-01\n",
       "84197  10.32737/2221-8688-2018-1-136-144  2018-01-01T00:00:00Z  2018-01-01\n",
       "31280              10.1055/b-0039-168647  2019-01-01T00:00:00Z  2019-01-01"
      ]
     },
     "execution_count": 13,
     "metadata": {},
     "output_type": "execute_result"
    }
   ],
   "source": [
    "dates.sample(4)"
   ]
  },
  {
   "cell_type": "code",
   "execution_count": 21,
   "metadata": {},
   "outputs": [],
   "source": [
    "dates['cr_date'] = pd.to_datetime(dates['cr_date'],utc=True) #  format=\"%Y-%m-%d\")\n",
    "dates['up_date'] = pd.to_datetime(dates['up_date'],utc=True)"
   ]
  },
  {
   "cell_type": "code",
   "execution_count": 22,
   "metadata": {},
   "outputs": [
    {
     "data": {
      "text/html": [
       "<div>\n",
       "<style scoped>\n",
       "    .dataframe tbody tr th:only-of-type {\n",
       "        vertical-align: middle;\n",
       "    }\n",
       "\n",
       "    .dataframe tbody tr th {\n",
       "        vertical-align: top;\n",
       "    }\n",
       "\n",
       "    .dataframe thead th {\n",
       "        text-align: right;\n",
       "    }\n",
       "</style>\n",
       "<table border=\"1\" class=\"dataframe\">\n",
       "  <thead>\n",
       "    <tr style=\"text-align: right;\">\n",
       "      <th></th>\n",
       "      <th>doi</th>\n",
       "      <th>cr_date</th>\n",
       "      <th>up_date</th>\n",
       "    </tr>\n",
       "  </thead>\n",
       "  <tbody>\n",
       "    <tr>\n",
       "      <th>24663</th>\n",
       "      <td>10.2991/emcs-16.2016.160</td>\n",
       "      <td>2016-01-01 00:00:00+00:00</td>\n",
       "      <td>2016-01-01 00:00:00+00:00</td>\n",
       "    </tr>\n",
       "    <tr>\n",
       "      <th>464</th>\n",
       "      <td>10.25206/2310-9793-2017-5-4-239-244</td>\n",
       "      <td>2017-01-01 00:00:00+00:00</td>\n",
       "      <td>2017-01-01 00:00:00+00:00</td>\n",
       "    </tr>\n",
       "    <tr>\n",
       "      <th>61792</th>\n",
       "      <td>10.1097/01.nep.0000000000000433</td>\n",
       "      <td>2018-12-31 00:00:00+00:00</td>\n",
       "      <td>2019-01-01 00:00:00+00:00</td>\n",
       "    </tr>\n",
       "    <tr>\n",
       "      <th>41</th>\n",
       "      <td>10.1177/1178221820928427</td>\n",
       "      <td>2020-01-01 00:00:00+00:00</td>\n",
       "      <td>2020-01-01 00:00:00+00:00</td>\n",
       "    </tr>\n",
       "  </tbody>\n",
       "</table>\n",
       "</div>"
      ],
      "text/plain": [
       "                                       doi                   cr_date  \\\n",
       "24663             10.2991/emcs-16.2016.160 2016-01-01 00:00:00+00:00   \n",
       "464    10.25206/2310-9793-2017-5-4-239-244 2017-01-01 00:00:00+00:00   \n",
       "61792      10.1097/01.nep.0000000000000433 2018-12-31 00:00:00+00:00   \n",
       "41                10.1177/1178221820928427 2020-01-01 00:00:00+00:00   \n",
       "\n",
       "                        up_date  \n",
       "24663 2016-01-01 00:00:00+00:00  \n",
       "464   2017-01-01 00:00:00+00:00  \n",
       "61792 2019-01-01 00:00:00+00:00  \n",
       "41    2020-01-01 00:00:00+00:00  "
      ]
     },
     "execution_count": 22,
     "metadata": {},
     "output_type": "execute_result"
    }
   ],
   "source": [
    "dates.sample(4)"
   ]
  },
  {
   "cell_type": "code",
   "execution_count": 23,
   "metadata": {},
   "outputs": [],
   "source": [
    "dates['delta'] = dates['cr_date'] - dates['up_date']"
   ]
  },
  {
   "cell_type": "code",
   "execution_count": 25,
   "metadata": {},
   "outputs": [
    {
     "data": {
      "text/html": [
       "<div>\n",
       "<style scoped>\n",
       "    .dataframe tbody tr th:only-of-type {\n",
       "        vertical-align: middle;\n",
       "    }\n",
       "\n",
       "    .dataframe tbody tr th {\n",
       "        vertical-align: top;\n",
       "    }\n",
       "\n",
       "    .dataframe thead th {\n",
       "        text-align: right;\n",
       "    }\n",
       "</style>\n",
       "<table border=\"1\" class=\"dataframe\">\n",
       "  <thead>\n",
       "    <tr style=\"text-align: right;\">\n",
       "      <th></th>\n",
       "      <th>doi</th>\n",
       "      <th>cr_date</th>\n",
       "      <th>up_date</th>\n",
       "      <th>delta</th>\n",
       "    </tr>\n",
       "  </thead>\n",
       "  <tbody>\n",
       "    <tr>\n",
       "      <th>8010</th>\n",
       "      <td>10.21527/2179-1309.2020.110.123-141</td>\n",
       "      <td>2020-01-02 00:00:00+00:00</td>\n",
       "      <td>2020-01-02 00:00:00+00:00</td>\n",
       "      <td>0 days</td>\n",
       "    </tr>\n",
       "  </tbody>\n",
       "</table>\n",
       "</div>"
      ],
      "text/plain": [
       "                                      doi                   cr_date  \\\n",
       "8010  10.21527/2179-1309.2020.110.123-141 2020-01-02 00:00:00+00:00   \n",
       "\n",
       "                       up_date  delta  \n",
       "8010 2020-01-02 00:00:00+00:00 0 days  "
      ]
     },
     "execution_count": 25,
     "metadata": {},
     "output_type": "execute_result"
    }
   ],
   "source": [
    "dates.sample()"
   ]
  },
  {
   "cell_type": "code",
   "execution_count": 39,
   "metadata": {},
   "outputs": [],
   "source": [
    "import numpy as np"
   ]
  },
  {
   "cell_type": "code",
   "execution_count": 47,
   "metadata": {},
   "outputs": [
    {
     "data": {
      "text/plain": [
       "<matplotlib.axes._subplots.AxesSubplot at 0x20e7135d670>"
      ]
     },
     "execution_count": 47,
     "metadata": {},
     "output_type": "execute_result"
    },
    {
     "data": {
      "image/png": "[encoded data removed]",
      "text/plain": [
       "<Figure size 432x288 with 1 Axes>"
      ]
     },
     "metadata": {
      "needs_background": "light"
     },
     "output_type": "display_data"
    }
   ],
   "source": [
    "pd.Series(np.sqrt(x.days**2) for x in dates['delta'].tolist() if x.days**2<(365**2) and x.days**2>=1).hist(bins = 100)"
   ]
  },
  {
   "cell_type": "code",
   "execution_count": null,
   "metadata": {},
   "outputs": [],
   "source": []
  }
 ],
 "metadata": {
  "kernelspec": {
   "display_name": "Python 3",
   "language": "python",
   "name": "python3"
  },
  "language_info": {
   "codemirror_mode": {
    "name": "ipython",
    "version": 3
   },
   "file_extension": ".py",
   "mimetype": "text/x-python",
   "name": "python",
   "nbconvert_exporter": "python",
   "pygments_lexer": "ipython3",
   "version": "3.8.3"
  }
 },
 "nbformat": 4,
 "nbformat_minor": 4
}