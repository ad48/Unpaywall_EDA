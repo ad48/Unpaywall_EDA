{
 "cells": [
  {
   "cell_type": "markdown",
   "metadata": {},
   "source": [
    "# Pull jsonl data directly from compressed dataset\n",
    "- It's better to avoid decompressing the data, so we open the file with gzip and read the documents sequentially.\n",
    "- If you need to access the data, this is one way to do so (but it requires scanning over the whole dataset).\n",
    "- To do more specific queries, you can mount the data to a database. "
   ]
  },
  {
   "cell_type": "code",
   "execution_count": 1,
   "metadata": {},
   "outputs": [],
   "source": [
    "filepath = r'C:\\Users\\aday\\OneDrive - SAGE Publishing\\DATA\\Unpaywall\\unpaywall_snapshot_2021-02-18T160139.jsonl.gz'"
   ]
  },
  {
   "cell_type": "code",
   "execution_count": 2,
   "metadata": {},
   "outputs": [
    {
     "name": "stdout",
     "output_type": "stream",
     "text": [
      "b'{\"doi\": \"10.21693/1933-088x-8.1.3\", \"year\": 2009, \"genre\": \"journal-article\", \"is_oa\": true, \"title\": \"The Scientific Leadership Council of the Pulmonary Hypertension Association\", \"doi_url\": \"https://doi.org/10.21693/1933-088x-8.1.3\", \"updated\": \"2019-05-30T16:24:33.665511\", \"oa_status\": \"bronze\", \"publisher\": \"Pulmonary Hypertension Association\", \"z_authors\": null, \"journal_name\": \"Advances in Pulmonary Hypertension\", \"oa_locations\": [{\"url\": \"https://advancesinph.org/doi/pdf/10.21693/1933-088X-8.1.3\", \"pmh_id\": null, \"is_best\": true, \"license\": null, \"updated\": \"2019-05-09T00:44:02.442503\", \"version\": \"publishedVersion\", \"evidence\": \"open (via free pdf)\", \"host_type\": \"publisher\", \"endpoint_id\": null, \"url_for_pdf\": \"https://advancesinph.org/doi/pdf/10.21693/1933-088X-8.1.3\", \"url_for_landing_page\": \"https://doi.org/10.21693/1933-088x-8.1.3\", \"repository_institution\": null}], \"data_standard\": 2, \"journal_is_oa\": false, \"journal_issns\": \"1933-088X\", \"journal_issn_l\": \"1933-088X\", \"published_date\": \"2009-01-01\", \"best_oa_location\": {\"url\": \"https://advancesinph.org/doi/pdf/10.21693/1933-088X-8.1.3\", \"pmh_id\": null, \"is_best\": true, \"license\": null, \"updated\": \"2019-05-09T00:44:02.442503\", \"version\": \"publishedVersion\", \"evidence\": \"open (via free pdf)\", \"host_type\": \"publisher\", \"endpoint_id\": null, \"url_for_pdf\": \"https://advancesinph.org/doi/pdf/10.21693/1933-088X-8.1.3\", \"url_for_landing_page\": \"https://doi.org/10.21693/1933-088x-8.1.3\", \"repository_institution\": null}, \"journal_is_in_doaj\": false, \"has_repository_copy\": false}\\n'\n",
      "b'{\"doi\": \"10.1163/9789004409248_012\", \"year\": 2006, \"genre\": \"book-chapter\", \"is_oa\": false, \"title\": \"Subject Index\", \"doi_url\": \"https://doi.org/10.1163/9789004409248_012\", \"updated\": \"2019-08-31T21:03:54.735008\", \"oa_status\": \"closed\", \"publisher\": \"BRILL\", \"z_authors\": [{\"given\": \"David\", \"family\": \"Thurfjell\", \"sequence\": \"first\"}], \"journal_name\": \"Living Shi\\'ism\", \"oa_locations\": [], \"data_standard\": 2, \"journal_is_oa\": false, \"journal_issns\": null, \"journal_issn_l\": null, \"published_date\": \"2006-01-01\", \"best_oa_location\": null, \"journal_is_in_doaj\": false, \"has_repository_copy\": false}\\n'\n",
      "b'{\"doi\": \"10.1098/rspb.1993.0046\", \"year\": 1993, \"genre\": \"journal-article\", \"is_oa\": false, \"title\": \"Female Lions can Identify Potentially Infanticidal Males from their Roars\", \"doi_url\": \"https://doi.org/10.1098/rspb.1993.0046\", \"updated\": \"2018-06-16T16:05:08.317026\", \"oa_status\": \"closed\", \"publisher\": \"The Royal Society\", \"z_authors\": [{\"given\": \"K.\", \"family\": \"Mccomb\"}, {\"given\": \"A.\", \"family\": \"Pusey\"}, {\"given\": \"C.\", \"family\": \"Packer\"}, {\"given\": \"J.\", \"family\": \"Grinnell\"}], \"journal_name\": \"Proceedings of the Royal Society B: Biological Sciences\", \"oa_locations\": [], \"data_standard\": 2, \"journal_is_oa\": false, \"journal_issns\": \"0962-8452,1471-2954\", \"journal_issn_l\": \"0962-8452\", \"published_date\": \"1993-04-22\", \"best_oa_location\": null, \"journal_is_in_doaj\": false, \"has_repository_copy\": false}\\n'\n"
     ]
    }
   ],
   "source": [
    "import gzip\n",
    "import json\n",
    "# each JSON metadata document is a line in the file\n",
    "with gzip.open(filepath,'rb') as f:\n",
    "    # so you can just iterate over the lines to get each document out of a for-loop\n",
    "    for i,line in enumerate(f):\n",
    "        # you need to use json.loads to convert the bytestring into a python dict\n",
    "        unpaywall_document = json.loads(line)\n",
    "        print(unpaywall_document)\n",
    "        # this bit simply stops the iteration so that it doesn't go on forever!\n",
    "        # remove this to iterate over the whole file (100+m records - takes a while!)\n",
    "        if i>2:\n",
    "            break"
   ]
  },
  {
   "cell_type": "code",
   "execution_count": null,
   "metadata": {},
   "outputs": [],
   "source": []
  }
 ],
 "metadata": {
  "kernelspec": {
   "display_name": "Python 3",
   "language": "python",
   "name": "python3"
  },
  "language_info": {
   "codemirror_mode": {
    "name": "ipython",
    "version": 3
   },
   "file_extension": ".py",
   "mimetype": "text/x-python",
   "name": "python",
   "nbconvert_exporter": "python",
   "pygments_lexer": "ipython3",
   "version": "3.8.3"
  }
 },
 "nbformat": 4,
 "nbformat_minor": 4
}